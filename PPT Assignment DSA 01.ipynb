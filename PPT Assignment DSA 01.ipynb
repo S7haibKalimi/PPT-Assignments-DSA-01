{
 "cells": [
  {
   "cell_type": "markdown",
   "id": "6cf2020d",
   "metadata": {},
   "source": [
    "# **Q1.** Given an array of integers nums and an integer target, return indices of the two numbers such that they add up to target. You may assume that each input would have exactly one solution, and you may not use the same element twice. You can return the answer in any order.\n",
    "\n",
    "**Example:**\n",
    "Input: nums = [2,7,11,15], target = 9\n",
    "Output0 [0,1]\n",
    "\n",
    "**Explanation:** Because nums[0] + nums[1] == 9, we return [0, 1][\n"
   ]
  },
  {
   "cell_type": "code",
   "execution_count": 2,
   "id": "9f6a8d95",
   "metadata": {},
   "outputs": [
    {
     "data": {
      "text/plain": [
       "[0, 1]"
      ]
     },
     "execution_count": 2,
     "metadata": {},
     "output_type": "execute_result"
    }
   ],
   "source": [
    "def two_Sum( nums, target):\n",
    "        index = []\n",
    "        for i in range(len(nums)) :\n",
    "            index.append([nums[i],i])\n",
    "        index.sort(key = lambda x : x[0])\n",
    "        start = 0\n",
    "        end = len(nums)-1\n",
    "        while(start < end) :\n",
    "            if(index[start][0]+index[end][0] == target) :\n",
    "                return [index[start][1],index[end][1]]\n",
    "            elif(index[start][0]+index[end][0] > target) :\n",
    "                end -= 1\n",
    "            else :\n",
    "                start += 1\n",
    "                \n",
    "two_Sum([2,7,11,15],9)"
   ]
  },
  {
   "cell_type": "markdown",
   "id": "52619cfe",
   "metadata": {},
   "source": [
    "# **Q2.**  Given an integer array nums and an integer val, remove all occurrences of val in nums in-place. The order of the elements may be changed. Then return the number of elements in nums which are not equal to val. Consider the number of elements in nums which are not equal to val be k, to get accepted, you need to do the following things:\n",
    "\n",
    "### Change the array nums such that the first k elements of nums contain the elements which are not equal to val. The remaining elements of nums are not important as well as the size of nums.\n",
    "### Return k.\n",
    "\n",
    "**Example :**\n",
    "Input: nums = [3,2,2,3], val = 3\n",
    "Output: 2, nums = [2,2,_*,_*]\n",
    "\n",
    "**Explanation:** Your function should return k = 2, with the first two elements of nums being 2. It does not matter what you leave beyond the returned k (hence they are underscores)[\n",
    "\n",
    "</aside>"
   ]
  },
  {
   "cell_type": "code",
   "execution_count": 3,
   "id": "57b4e974",
   "metadata": {},
   "outputs": [],
   "source": [
    "def remove_Element(nums, val):\n",
    "        k = 0\n",
    "        for i in range(len(nums)):\n",
    "            if nums[i] != val:\n",
    "                nums[k] = nums[i]\n",
    "                k +=1\n",
    "        return k"
   ]
  },
  {
   "cell_type": "code",
   "execution_count": 4,
   "id": "e1905b67",
   "metadata": {},
   "outputs": [
    {
     "data": {
      "text/plain": [
       "2"
      ]
     },
     "execution_count": 4,
     "metadata": {},
     "output_type": "execute_result"
    }
   ],
   "source": [
    "remove_Element([3,2,2,3],3)"
   ]
  },
  {
   "cell_type": "markdown",
   "id": "da5f45a8",
   "metadata": {},
   "source": [
    "# **Q3.** Given a sorted array of distinct integers and a target value, return the index if the target is found. If not, return the index where it would be if it were inserted in order. You must write an algorithm with O(log n) runtime complexity.\n",
    "\n",
    "**Example 1:**\n",
    "Input: nums = [1,3,5,6], target = 5\n",
    "\n",
    "Output: 2\n",
    "\n",
    "</aside>"
   ]
  },
  {
   "cell_type": "code",
   "execution_count": 5,
   "id": "73f5331f",
   "metadata": {},
   "outputs": [],
   "source": [
    "def searchInsert(nums, target):\n",
    "        l = 0\n",
    "        r = len(nums)-1\n",
    "        \n",
    "        while l <= r:\n",
    "            m = (l+r)//2\n",
    "            if target == nums[m]:\n",
    "                return m\n",
    "            if target > nums[m]:\n",
    "                l = m+1\n",
    "                \n",
    "            else:\n",
    "                r = m-1\n",
    "        return l"
   ]
  },
  {
   "cell_type": "code",
   "execution_count": 6,
   "id": "78e468d3",
   "metadata": {},
   "outputs": [
    {
     "data": {
      "text/plain": [
       "2"
      ]
     },
     "execution_count": 6,
     "metadata": {},
     "output_type": "execute_result"
    }
   ],
   "source": [
    "searchInsert([1,3,5,6],5)"
   ]
  },
  {
   "cell_type": "markdown",
   "id": "03eefa6a",
   "metadata": {},
   "source": [
    "# **Q4.**  You are given a large integer represented as an integer array digits, where each digits[i] is the ith digit of the integer. The digits are ordered from most significant to least significant in left-to-right order. The large integer does not contain any leading 0's. Increment the large integer by one and return the resulting array of digits.\n",
    "\n",
    "**Example 1:**\n",
    "Input: digits = [1,2,3]\n",
    "Output: [1,2,4]\n",
    "\n",
    "**Explanation:** The array represents the integer 123.\n",
    "\n",
    "Incrementing by one gives 123 + 1 = 124.\n",
    "Thus, the result should be [1,2,4].\n",
    "\n",
    "</aside>"
   ]
  },
  {
   "cell_type": "code",
   "execution_count": 7,
   "id": "87318175",
   "metadata": {},
   "outputs": [],
   "source": [
    "def plus_One(digits):\n",
    "        digits = digits[::-1]\n",
    "        carry = 1\n",
    "        i = 0\n",
    "        while carry:\n",
    "            if i < len(digits):\n",
    "                if digits[i] == 9:\n",
    "                    digits[i] = 0\n",
    "                else:\n",
    "                    digits[i] += 1\n",
    "                    carry = 0\n",
    "            else:\n",
    "                digits.append(1)\n",
    "                carry = 0\n",
    "            i+= 1\n",
    "        return digits[::-1]"
   ]
  },
  {
   "cell_type": "code",
   "execution_count": 8,
   "id": "5be4aafe",
   "metadata": {},
   "outputs": [
    {
     "data": {
      "text/plain": [
       "[1, 2, 4]"
      ]
     },
     "execution_count": 8,
     "metadata": {},
     "output_type": "execute_result"
    }
   ],
   "source": [
    "plus_One([1,2,3])"
   ]
  },
  {
   "cell_type": "markdown",
   "id": "40dd923d",
   "metadata": {},
   "source": [
    "# **Q5.** You are given two integer arrays nums1 and nums2, sorted in non-decreasing order, and two integers m and n, representing the number of elements in nums1 and nums2 respectively. Merge nums1 and nums2 into a single array sorted in non-decreasing order. The final sorted array should not be returned by the function, but instead be stored inside the array nums1. To accommodate this, nums1 has a length of m + n, where the first m elements denote the elements that should be merged, and the last n elements are set to 0 and should be ignored. nums2 has a length of n.\n",
    "\n",
    "**Example 1:**\n",
    "Input: nums1 = [1,2,3,0,0,0], m = 3, nums2 = [2,5,6], n = 3\n",
    "Output: [1,2,2,3,5,6]\n",
    "\n",
    "**Explanation:** The arrays we are merging are [1,2,3] and [2,5,6].\n",
    "The result of the merge is [1,2,2,3,5,6] with the underlined elements coming from nums1.\n",
    "\n",
    "</aside>"
   ]
  },
  {
   "cell_type": "code",
   "execution_count": 9,
   "id": "582c7e65",
   "metadata": {},
   "outputs": [],
   "source": [
    "def merging(nums1,nums2,m,n):\n",
    "    i = m-1\n",
    "    j = n-1\n",
    "    k = m+n-1\n",
    "    while j >=0:\n",
    "        if i >=0 and nums1[i] > nums2[j]:\n",
    "            nums1[k] = nums1[i]\n",
    "            i -= 1\n",
    "        else:\n",
    "            nums1[k] = nums2[j]\n",
    "            j -= 1\n",
    "        k -= 1\n",
    "    return nums1"
   ]
  },
  {
   "cell_type": "code",
   "execution_count": 10,
   "id": "245f971f",
   "metadata": {},
   "outputs": [
    {
     "data": {
      "text/plain": [
       "[1, 2, 2, 3, 5, 6]"
      ]
     },
     "execution_count": 10,
     "metadata": {},
     "output_type": "execute_result"
    }
   ],
   "source": [
    "merging([1,2,3,0,0,0],[2,5,6],3,3)"
   ]
  },
  {
   "cell_type": "markdown",
   "id": "b418ced0",
   "metadata": {},
   "source": [
    "# **Q6.**  Given an integer array nums, return true if any value appears at least twice in the array, and return false if every element is distinct.\n",
    "\n",
    "**Example 1:**\n",
    "Input: nums = [1,2,3,1]\n",
    "\n",
    "Output: true\n",
    "\n",
    "</aside>"
   ]
  },
  {
   "cell_type": "code",
   "execution_count": 11,
   "id": "f279926b",
   "metadata": {},
   "outputs": [],
   "source": [
    "def containsDuplicate(nums):\n",
    "        mp = set()\n",
    "        for i in nums:\n",
    "            if i in mp:\n",
    "                return True\n",
    "            else:\n",
    "                mp.add(i)"
   ]
  },
  {
   "cell_type": "code",
   "execution_count": 12,
   "id": "0aef5702",
   "metadata": {},
   "outputs": [
    {
     "data": {
      "text/plain": [
       "True"
      ]
     },
     "execution_count": 12,
     "metadata": {},
     "output_type": "execute_result"
    }
   ],
   "source": [
    "containsDuplicate([1,2,3,1])"
   ]
  },
  {
   "cell_type": "markdown",
   "id": "dcfc2748",
   "metadata": {},
   "source": [
    "# **Q7.**  Given an integer array nums, move all 0's to the end of it while maintaining the relative order of the nonzero elements.\n",
    "\n",
    "## Note that you must do this in-place without making a copy of the array.\n",
    "\n",
    "**Example 1:**\n",
    "Input: nums = [0,1,0,3,12]\n",
    "Output: [1,3,12,0,0]\n",
    "\n",
    "</aside>"
   ]
  },
  {
   "cell_type": "code",
   "execution_count": 13,
   "id": "60109c38",
   "metadata": {},
   "outputs": [],
   "source": [
    "def move_Zeroes(nums):\n",
    "        i = 0\n",
    "        n = len(nums)\n",
    "        for j in range(n):\n",
    "            if nums[j] != 0:\n",
    "                nums[i],nums[j] = nums[j], nums[i]\n",
    "                i +=1\n",
    "        return nums"
   ]
  },
  {
   "cell_type": "code",
   "execution_count": 14,
   "id": "41ff2a77",
   "metadata": {},
   "outputs": [
    {
     "data": {
      "text/plain": [
       "[1, 3, 12, 0, 0]"
      ]
     },
     "execution_count": 14,
     "metadata": {},
     "output_type": "execute_result"
    }
   ],
   "source": [
    "move_Zeroes([0,1,0,3,12])"
   ]
  },
  {
   "cell_type": "markdown",
   "id": "acfadf6e",
   "metadata": {},
   "source": [
    "# **Q8.**  You have a set of integers s, which originally contains all the numbers from 1 to n. Unfortunately, due to some error, one of the numbers in s got duplicated to another number in the set, which results in repetition of one number and loss of another number. You are given an integer array nums representing the data status of this set after the error. Find the number that occurs twice and the number that is missing and return them in the form of an array.\n",
    "\n",
    "**Example 1:**\n",
    "Input: nums = [1,2,2,4]\n",
    "Output: [2,3]\n",
    "\n",
    "</aside>"
   ]
  },
  {
   "cell_type": "code",
   "execution_count": 15,
   "id": "5692eb47",
   "metadata": {},
   "outputs": [],
   "source": [
    " def findErrorNums(nums):\n",
    "        \"\"\"\n",
    "        mp = {}\n",
    "        count = 0\n",
    "        \n",
    "        for i in range(0,len(nums)):\n",
    "            if nums[i] in mp:\n",
    "                count +=1\n",
    "            else:\n",
    "                mp[nums[i]] = i\n",
    "        if count >1:\n",
    "            return mp[0]\n",
    "       \n",
    "        \"\"\"\n",
    "        numbers = [-1 for i in range(len(nums)+1)]\n",
    "        output = []\n",
    "        for num in nums:\n",
    "            if numbers[num] == -1:\n",
    "                numbers[num] = num\n",
    "            else:\n",
    "                output.append(num)\n",
    "        \n",
    "        for i in range(1,len(numbers)):\n",
    "            if numbers[i] == -1:\n",
    "                output.append(i)\n",
    "        return output"
   ]
  },
  {
   "cell_type": "code",
   "execution_count": 16,
   "id": "a627f858",
   "metadata": {},
   "outputs": [
    {
     "data": {
      "text/plain": [
       "[2, 3]"
      ]
     },
     "execution_count": 16,
     "metadata": {},
     "output_type": "execute_result"
    }
   ],
   "source": [
    "findErrorNums([1,2,2,4] )"
   ]
  }
 ],
 "metadata": {
  "kernelspec": {
   "display_name": "Python 3 (ipykernel)",
   "language": "python",
   "name": "python3"
  },
  "language_info": {
   "codemirror_mode": {
    "name": "ipython",
    "version": 3
   },
   "file_extension": ".py",
   "mimetype": "text/x-python",
   "name": "python",
   "nbconvert_exporter": "python",
   "pygments_lexer": "ipython3",
   "version": "3.9.12"
  }
 },
 "nbformat": 4,
 "nbformat_minor": 5
}
